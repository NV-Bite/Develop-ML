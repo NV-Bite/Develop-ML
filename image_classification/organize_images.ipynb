{
 "cells": [
  {
   "cell_type": "code",
   "execution_count": null,
   "metadata": {
    "vscode": {
     "languageId": "plaintext"
    }
   },
   "outputs": [],
   "source": [
    "from PIL import Image, ImageFile\n",
    "import os\n",
    "\n",
    "# Allow loading of truncated images without raising an error\n",
    "ImageFile.LOAD_TRUNCATED_IMAGES = True\n",
    "\n",
    "# Path to the extracted dataset folder\n",
    "dataset_path = '/content/image_dataset'\n",
    "\n",
    "# Loop through all subfolders and files in the dataset folder\n",
    "for folder_path, subfolders, filenames in os.walk(dataset_path):\n",
    "    folder_name = os.path.basename(folder_path)  # Get the folder name\n",
    "    file_counter = 1  # Counter to number the files\n",
    "\n",
    "    for filename in filenames:\n",
    "        original_file_path = os.path.join(folder_path, filename)  # Path to the original file\n",
    "        if os.path.isfile(original_file_path):  # Ensure the path is a file\n",
    "            file_name, file_extension = os.path.splitext(filename)  # Get file name and extension\n",
    "\n",
    "            # Process only supported image file types\n",
    "            if file_extension.lower() in ['.webp', '.jpeg', '.png', '.jpg']:\n",
    "                new_file_name = f\"{folder_name}_{file_counter:03d}.jpg\"  # Create a new file name\n",
    "                new_file_path = os.path.join(folder_path, new_file_name)  # Path for the new file\n",
    "\n",
    "                try:\n",
    "                    # Open the image and convert to RGB if necessary\n",
    "                    with Image.open(original_file_path) as image:\n",
    "                        if image.mode in ['RGBA', 'P']:  # Convert to RGB if the mode is RGBA or P\n",
    "                            image = image.convert('RGB')\n",
    "                        # Save the image with the new file name\n",
    "                        image.save(new_file_path)\n",
    "                except Exception as e:\n",
    "                    print(f\"Error processing file {original_file_path}: {e}\")\n",
    "\n",
    "                # Delete the original file after saving with the new name\n",
    "                os.remove(original_file_path)\n",
    "            else:\n",
    "                # If the file is not an image, simply rename it\n",
    "                new_file_name = f\"{folder_name}_{file_counter:03d}{file_extension}\"\n",
    "                new_file_path = os.path.join(folder_path, new_file_name)\n",
    "                os.rename(original_file_path, new_file_path)\n",
    "\n",
    "            file_counter += 1  # Increment the counter after processing the file\n",
    "\n",
    "print(\"File renaming complete!\")\n"
   ]
  }
 ],
 "metadata": {
  "language_info": {
   "name": "python"
  }
 },
 "nbformat": 4,
 "nbformat_minor": 2
}
