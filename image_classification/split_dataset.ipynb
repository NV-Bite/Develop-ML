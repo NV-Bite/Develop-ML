{
 "cells": [
  {
   "cell_type": "code",
   "execution_count": null,
   "metadata": {
    "vscode": {
     "languageId": "plaintext"
    }
   },
   "outputs": [],
   "source": [
    "def split_data(source_dir, train_dir, val_dir, test_dir, train_size=0.8, val_size=0.1, test_size=0.1):\n",
    "    categories = [d for d in os.listdir(source_dir) if os.path.isdir(os.path.join(source_dir, d))]\n",
    "\n",
    "    for category in categories:\n",
    "        # Make new directories for training, validation, and testing within each category\n",
    "        os.makedirs(os.path.join(train_dir, category), exist_ok=True)\n",
    "        os.makedirs(os.path.join(val_dir, category), exist_ok=True)\n",
    "        os.makedirs(os.path.join(test_dir, category), exist_ok=True)\n",
    "\n",
    "        # Get all files in the current category\n",
    "        files = os.listdir(os.path.join(source_dir, category))\n",
    "        np.random.shuffle(files)  # Shuffle files to randomize\n",
    "\n",
    "        # Split files according to provided ratios\n",
    "        train_end = int(len(files) * train_size)\n",
    "        val_end = train_end + int(len(files) * val_size)\n",
    "\n",
    "        # Train files\n",
    "        for f in files[:train_end]:\n",
    "            shutil.copy(os.path.join(source_dir, category, f), os.path.join(train_dir, category, f))\n",
    "\n",
    "        # Validation files\n",
    "        for f in files[train_end:val_end]:\n",
    "            shutil.copy(os.path.join(source_dir, category, f), os.path.join(val_dir, category, f))\n",
    "\n",
    "        # Test files\n",
    "        for f in files[val_end:]:\n",
    "            shutil.copy(os.path.join(source_dir, category, f), os.path.join(test_dir, category, f))\n"
   ]
  },
  {
   "cell_type": "code",
   "execution_count": null,
   "metadata": {
    "vscode": {
     "languageId": "plaintext"
    }
   },
   "outputs": [],
   "source": [
    "# Define directories\n",
    "source_dir = '/content/dataset/dataset_gambar/'\n",
    "train_dir = '/content/dataset/train'\n",
    "valid_dir = '/content/dataset/valid'\n",
    "test_dir = '/content/dataset/test'"
   ]
  },
  {
   "cell_type": "code",
   "execution_count": null,
   "metadata": {
    "vscode": {
     "languageId": "plaintext"
    }
   },
   "outputs": [],
   "source": [
    "# Ensure the target directories exist\n",
    "os.makedirs(train_dir, exist_ok=True)\n",
    "os.makedirs(valid_dir, exist_ok=True)\n",
    "os.makedirs(test_dir, exist_ok=True)\n",
    "\n",
    "# Apply the function to each category of images if needed\n",
    "split_data(source_dir, train_dir, valid_dir, test_dir)"
   ]
  },
  {
   "cell_type": "code",
   "execution_count": null,
   "metadata": {
    "vscode": {
     "languageId": "plaintext"
    }
   },
   "outputs": [],
   "source": [
    "def count_image(directory):\n",
    "  count = sum(len(files) for _, _, files in os.walk(directory))\n",
    "  return count\n",
    "\n",
    "train_count = count_image(train_dir)\n",
    "valid_count = count_image(valid_dir)\n",
    "test_count = count_image(test_dir)\n",
    "\n",
    "print(\"Number of training data:\", train_count)\n",
    "print(\"Number of validation data:\", valid_count)\n",
    "print(\"Number of testing data:\", test_count)"
   ]
  },
  {
   "cell_type": "code",
   "execution_count": null,
   "metadata": {
    "vscode": {
     "languageId": "plaintext"
    }
   },
   "outputs": [],
   "source": [
    "print(\"Files in training directory:\", os.listdir(train_dir))\n",
    "print(\"Files in validation directory:\", os.listdir(valid_dir))\n",
    "print(\"Files in testing directory:\", os.listdir(test_dir))"
   ]
  }
 ],
 "metadata": {
  "language_info": {
   "name": "python"
  }
 },
 "nbformat": 4,
 "nbformat_minor": 2
}
